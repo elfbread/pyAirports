{
 "cells": [
  {
   "cell_type": "code",
   "execution_count": 8,
   "id": "31e452b4",
   "metadata": {},
   "outputs": [],
   "source": [
    "import pandas as pd\n",
    "import matplotlib.pyplot as plt\n",
    "import numpy as np"
   ]
  },
  {
   "cell_type": "code",
   "execution_count": 3,
   "id": "bafb4566",
   "metadata": {},
   "outputs": [
    {
     "name": "stdout",
     "output_type": "stream",
     "text": [
      "   Rank                                            Airport  \\\n",
      "0     1       China Guangzhou Baiyun International Airport   \n",
      "1     2  United States Hartsfield–Jackson Atlanta Inter...   \n",
      "2     3      China Chengdu Shuangliu International Airport   \n",
      "3     4  United States Dallas/Fort Worth International ...   \n",
      "4     5        China Shenzhen Bao'an International Airport   \n",
      "\n",
      "                             Location        Country      Code  Passengers  \\\n",
      "0  Baiyun-Huadu, Guangzhou, Guangdong          China  CAN/ZGGG    43760427   \n",
      "1                    Atlanta, Georgia  United States  ATL/KATL    42918685   \n",
      "2   Shuangliu-Wuhou, Chengdu, Sichuan          China  CTU/ZUUU    40741509   \n",
      "3            Dallas-Fort Worth, Texas  United States  DFW/KDFW    39364990   \n",
      "4         Bao'an, Shenzhen, Guangdong          China  SZX/ZGSZ    37916059   \n",
      "\n",
      "   Year  \n",
      "0  2020  \n",
      "1  2020  \n",
      "2  2020  \n",
      "3  2020  \n",
      "4  2020  \n"
     ]
    }
   ],
   "source": [
    "# import raw data and preview\n",
    "airportRaw = pd.read_csv(r\"C:\\Users\\britt\\Documents\\Python\\airports\\Airports.csv\")\n",
    "print(airportRaw.head())"
   ]
  },
  {
   "cell_type": "code",
   "execution_count": 4,
   "id": "475b9468",
   "metadata": {},
   "outputs": [
    {
     "name": "stdout",
     "output_type": "stream",
     "text": [
      "Count of missing values: 0\n"
     ]
    }
   ],
   "source": [
    "# check for missing values\n",
    "count_nan = airportRaw.isna().sum().sum()\n",
    "print('Count of missing values: ' + str(count_nan))"
   ]
  },
  {
   "cell_type": "code",
   "execution_count": 29,
   "id": "6861c443",
   "metadata": {},
   "outputs": [
    {
     "name": "stdout",
     "output_type": "stream",
     "text": [
      "     Rank                                            Airport  \\\n",
      "0       1       China Guangzhou Baiyun International Airport   \n",
      "1       2  United States Hartsfield–Jackson Atlanta Inter...   \n",
      "2       3      China Chengdu Shuangliu International Airport   \n",
      "3       4  United States Dallas/Fort Worth International ...   \n",
      "4       5        China Shenzhen Bao'an International Airport   \n",
      "..    ...                                                ...   \n",
      "245    46  United States Newark Liberty International Air...   \n",
      "246    47     Philippines Ninoy Aquino International Airport   \n",
      "247    48                 Japan Narita International Airport   \n",
      "248    49  United States Minneapolis/St Paul Internationa...   \n",
      "249    50                  Qatar Hamad International Airport   \n",
      "\n",
      "                               Location        Country      Code  Passengers  \\\n",
      "0    Baiyun-Huadu, Guangzhou, Guangdong          China  CAN/ZGGG    43760427   \n",
      "1                      Atlanta, Georgia  United States  ATL/KATL    42918685   \n",
      "2     Shuangliu-Wuhou, Chengdu, Sichuan          China  CTU/ZUUU    40741509   \n",
      "3              Dallas-Fort Worth, Texas  United States  DFW/KDFW    39364990   \n",
      "4           Bao'an, Shenzhen, Guangdong          China  SZX/ZGSZ    37916059   \n",
      "..                                  ...            ...       ...         ...   \n",
      "245                  Newark, New Jersey  United States  EWR/KEWR    40289969   \n",
      "246       Pasay/Parañaque, Metro Manila    Philippines  MNL/RPLL    39534991   \n",
      "247                       Narita, Chiba          Japan  NRT/RJAA    39000563   \n",
      "248                 St. Paul, Minnesota  United States  MSP/KMSP    37413728   \n",
      "249                                Doha          Qatar  DOH/OTHH    37283987   \n",
      "\n",
      "     Year  \n",
      "0    2020  \n",
      "1    2020  \n",
      "2    2020  \n",
      "3    2020  \n",
      "4    2020  \n",
      "..    ...  \n",
      "245  2016  \n",
      "246  2016  \n",
      "247  2016  \n",
      "248  2016  \n",
      "249  2016  \n",
      "\n",
      "[250 rows x 7 columns]\n"
     ]
    },
    {
     "name": "stderr",
     "output_type": "stream",
     "text": [
      "C:\\Users\\britt\\AppData\\Local\\Temp/ipykernel_8396/1850468246.py:7: FutureWarning: Dropping of nuisance columns in DataFrame reductions (with 'numeric_only=None') is deprecated; in a future version this will raise TypeError.  Select only valid columns before calling the reduction.\n",
      "  airport.mean()\n"
     ]
    },
    {
     "data": {
      "text/plain": [
       "Rank          2.550000e+01\n",
       "Passengers    5.148617e+07\n",
       "Year          2.018000e+03\n",
       "dtype: float64"
      ]
     },
     "execution_count": 29,
     "metadata": {},
     "output_type": "execute_result"
    }
   ],
   "source": [
    "# descriptive statistics\n",
    "airport = pd.DataFrame(airportRaw)\n",
    "# strip leading and training white spaces\n",
    "\n",
    "print(airport)\n",
    "min(airport.Passengers  )\n",
    "airport.mean()"
   ]
  },
  {
   "cell_type": "code",
   "execution_count": null,
   "id": "4584af8a",
   "metadata": {},
   "outputs": [],
   "source": [
    "# map with bubble chart in a particular size"
   ]
  },
  {
   "cell_type": "code",
   "execution_count": null,
   "id": "8bd80ab2",
   "metadata": {},
   "outputs": [],
   "source": [
    "# "
   ]
  },
  {
   "cell_type": "code",
   "execution_count": null,
   "id": "9d55b3d1",
   "metadata": {},
   "outputs": [],
   "source": []
  },
  {
   "cell_type": "code",
   "execution_count": null,
   "id": "b178de1e",
   "metadata": {},
   "outputs": [],
   "source": []
  }
 ],
 "metadata": {
  "kernelspec": {
   "display_name": "Python 3 (ipykernel)",
   "language": "python",
   "name": "python3"
  },
  "language_info": {
   "codemirror_mode": {
    "name": "ipython",
    "version": 3
   },
   "file_extension": ".py",
   "mimetype": "text/x-python",
   "name": "python",
   "nbconvert_exporter": "python",
   "pygments_lexer": "ipython3",
   "version": "3.9.7"
  }
 },
 "nbformat": 4,
 "nbformat_minor": 5
}
