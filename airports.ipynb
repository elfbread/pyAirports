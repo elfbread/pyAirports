{
 "cells": [
  {
   "cell_type": "code",
   "execution_count": 1,
   "id": "31e452b4",
   "metadata": {},
   "outputs": [],
   "source": [
    "import pandas as pd\n",
    "import matplotlib.pyplot as plt\n",
    "import numpy as np"
   ]
  },
  {
   "cell_type": "code",
   "execution_count": 2,
   "id": "bafb4566",
   "metadata": {},
   "outputs": [
    {
     "name": "stdout",
     "output_type": "stream",
     "text": [
      "   Rank                                            Airport  \\\n",
      "0     1       China Guangzhou Baiyun International Airport   \n",
      "1     2  United States Hartsfield–Jackson Atlanta Inter...   \n",
      "2     3      China Chengdu Shuangliu International Airport   \n",
      "3     4  United States Dallas/Fort Worth International ...   \n",
      "4     5        China Shenzhen Bao'an International Airport   \n",
      "\n",
      "                             Location        Country      Code  Passengers  \\\n",
      "0  Baiyun-Huadu, Guangzhou, Guangdong          China  CAN/ZGGG    43760427   \n",
      "1                    Atlanta, Georgia  United States  ATL/KATL    42918685   \n",
      "2   Shuangliu-Wuhou, Chengdu, Sichuan          China  CTU/ZUUU    40741509   \n",
      "3            Dallas-Fort Worth, Texas  United States  DFW/KDFW    39364990   \n",
      "4         Bao'an, Shenzhen, Guangdong          China  SZX/ZGSZ    37916059   \n",
      "\n",
      "   Year  \n",
      "0  2020  \n",
      "1  2020  \n",
      "2  2020  \n",
      "3  2020  \n",
      "4  2020  \n"
     ]
    }
   ],
   "source": [
    "# import raw data and preview\n",
    "airportRaw = pd.read_csv(r\"C:\\Users\\britt\\Documents\\Python\\airports\\Airports.csv\")\n",
    "print(airportRaw.head())"
   ]
  },
  {
   "cell_type": "code",
   "execution_count": 7,
   "id": "475b9468",
   "metadata": {},
   "outputs": [
    {
     "name": "stdout",
     "output_type": "stream",
     "text": [
      "Count of missing values: 0\n"
     ]
    }
   ],
   "source": [
    "# check for missing values\n",
    "count_nan = airportRaw.isna().sum().sum()\n",
    "print('Count of missing values: ' + str(count_nan))"
   ]
  },
  {
   "cell_type": "code",
   "execution_count": 3,
   "id": "f3f74d47",
   "metadata": {},
   "outputs": [],
   "source": [
    "# add new column with region using dictionary\n",
    "\n",
    "def assign_region_dict(country):\n",
    "    country_to_region = {\n",
    "        \"China\": \"Asia\",\n",
    "        \"Japan\": \"Asia\",\n",
    "        \"Hong Kong SAR, China\": \"Asia\",\n",
    "        \"India\": \"Asia\",\n",
    "        \"Indonesia\": \"Asia\",\n",
    "        \"Malaysia\": \"Asia\",\n",
    "        \"Philippines\": \"Asia\",\n",
    "        \"Qatar\": \"Asia\",\n",
    "        \"Republic of Korea\": \"Asia\",\n",
    "        \"Russia\": \"Asia\",\n",
    "        \"Singapore\": \"Asia\",\n",
    "        \"Taiwan\": \"Asia\",\n",
    "        \"Thailand\": \"Asia\",\n",
    "        \"United Arab Emirates\": \"Asia\",\n",
    "        \"Turkey\": \"Asia\",\n",
    "        \"Vietnam\": \"Asia\",\n",
    "        \"Australia\": \"Oceania\",\n",
    "        \"Brazil\": \"South America\",\n",
    "        \"Canada\": \"North America\",\n",
    "        \"France\": \"Europe\",\n",
    "        \"Germany\": \"Europe\",\n",
    "        \"Italy\": \"Europe\",\n",
    "        \"Mexico\": \"North America\",\n",
    "        \"Netherlands\": \"Europe\",\n",
    "        \"Spain\": \"Europe\",\n",
    "        \"The Netherlands\": \"Europe\",\n",
    "        \"United Kingdom\": \"Europe\",\n",
    "        \"United States\": \"North America\"\n",
    "    }\n",
    "    \n",
    "    return country_to_region.get(country, 'Unknown')\n",
    "airportRaw['Region'] = airportRaw['Country'].apply(assign_region_dict)"
   ]
  },
  {
   "cell_type": "code",
   "execution_count": 4,
   "id": "8d02c153",
   "metadata": {},
   "outputs": [
    {
     "name": "stdout",
     "output_type": "stream",
     "text": [
      "   Rank                                            Airport  \\\n",
      "0     1       China Guangzhou Baiyun International Airport   \n",
      "1     2  United States Hartsfield–Jackson Atlanta Inter...   \n",
      "2     3      China Chengdu Shuangliu International Airport   \n",
      "3     4  United States Dallas/Fort Worth International ...   \n",
      "4     5        China Shenzhen Bao'an International Airport   \n",
      "\n",
      "                             Location        Country      Code  Passengers  \\\n",
      "0  Baiyun-Huadu, Guangzhou, Guangdong          China  CAN/ZGGG    43760427   \n",
      "1                    Atlanta, Georgia  United States  ATL/KATL    42918685   \n",
      "2   Shuangliu-Wuhou, Chengdu, Sichuan          China  CTU/ZUUU    40741509   \n",
      "3            Dallas-Fort Worth, Texas  United States  DFW/KDFW    39364990   \n",
      "4         Bao'an, Shenzhen, Guangdong          China  SZX/ZGSZ    37916059   \n",
      "\n",
      "   Year         Region  \n",
      "0  2020           Asia  \n",
      "1  2020  North America  \n",
      "2  2020           Asia  \n",
      "3  2020  North America  \n",
      "4  2020           Asia  \n"
     ]
    }
   ],
   "source": [
    "# check region\n",
    "print(airportRaw.head())"
   ]
  },
  {
   "cell_type": "code",
   "execution_count": 4,
   "id": "ba415b6a",
   "metadata": {},
   "outputs": [
    {
     "name": "stdout",
     "output_type": "stream",
     "text": [
      "           Region  Year  total_pass\n",
      "0            Asia  2016  1222977731\n",
      "1            Asia  2017  1341843067\n",
      "2            Asia  2018  1357033821\n",
      "3            Asia  2019  1396326936\n",
      "4            Asia  2020   672659469\n",
      "5          Europe  2016   487726815\n",
      "6          Europe  2017   512258443\n",
      "7          Europe  2018   536607947\n",
      "8          Europe  2019   508190298\n",
      "9          Europe  2020   101137367\n",
      "10  North America  2016   971808000\n",
      "11  North America  2017   961767308\n",
      "12  North America  2018  1002089318\n",
      "13  North America  2019  1035670356\n",
      "14  North America  2020   390749031\n",
      "15        Oceania  2016    41985810\n",
      "16        Oceania  2017    43410355\n",
      "17        Oceania  2018    44475976\n",
      "18        Oceania  2019    44446838\n",
      "19  South America  2020    20322520\n",
      "20        Unknown  2018    68350784\n",
      "21        Unknown  2019    71204153\n",
      "22        Unknown  2020    38500935\n"
     ]
    }
   ],
   "source": [
    "# group by region and year with sum of passengers\n",
    "\n",
    "airportGroup = airportRaw.groupby(['Region', 'Year']).agg({'Passengers': ['sum']})\n",
    "airportGroup.columns = ['total_pass']\n",
    "airportGroup = airportGroup.reset_index()\n",
    "print(airportGroup) # check "
   ]
  },
  {
   "cell_type": "code",
   "execution_count": 11,
   "id": "5f9f23ac",
   "metadata": {},
   "outputs": [
    {
     "name": "stdout",
     "output_type": "stream",
     "text": [
      "Regions are: Asia, Europe, Oceania, South America, North America, Unknown\n",
      "Enter a region from the list above: europe\n",
      "You selected Europe\n"
     ]
    }
   ],
   "source": [
    "Rlist = [\"Asia\", \"Europe\", \"Oceania\", \"South America\", \"North America\", \"Unknown\"]\n",
    "print(\"Regions are: Asia, Europe, Oceania, South America, North America, Unknown\")\n",
    "\n",
    "while True:\n",
    "    input_region = str(input(\"Enter a region from the list above: \"))\n",
    "    input_region = (input_region.title())\n",
    "    if input_region == \"Exit\":\n",
    "        break\n",
    "    word_found = False\n",
    "    for element in Rlist:\n",
    "        try:\n",
    "            if int(input_region) == int(element):\n",
    "                word_found = True\n",
    "                break\n",
    "        except ValueError:\n",
    "            if input_region == element:\n",
    "                word_found = True\n",
    "                break\n",
    "    if word_found:\n",
    "        print(\"You selected \" + str(input_region))\n",
    "        new_region = input_region\n",
    "        break\n",
    "    else:\n",
    "        print(\"That is not a recognized region. Try again.\")"
   ]
  },
  {
   "cell_type": "code",
   "execution_count": 13,
   "id": "adc5b0b5",
   "metadata": {},
   "outputs": [
    {
     "name": "stdout",
     "output_type": "stream",
     "text": [
      "   Region  Year  total_pass\n",
      "5  Europe  2016   487726815\n",
      "6  Europe  2017   512258443\n",
      "7  Europe  2018   536607947\n",
      "8  Europe  2019   508190298\n",
      "9  Europe  2020   101137367\n"
     ]
    }
   ],
   "source": [
    "# filter data set to only show regions requested via user input\n",
    "airportFilter = airportGroup.loc[(airportGroup['Region'] == new_region)]\n",
    "print(airportFilter.head())\n"
   ]
  },
  {
   "cell_type": "code",
   "execution_count": 14,
   "id": "f06ea442",
   "metadata": {},
   "outputs": [
    {
     "data": {
      "image/png": "[encoded data removed]",
      "text/plain": [
       "<Figure size 432x288 with 1 Axes>"
      ]
     },
     "metadata": {
      "needs_background": "light"
     },
     "output_type": "display_data"
    }
   ],
   "source": [
    "# line graph\n",
    "# how to remove decimals from x-labels?\n",
    "\n",
    "\n",
    "plt.plot(airportFilter.Year, airportFilter.total_pass, color='red', marker='o')\n",
    "plt.title('Passengers for ' + region_cap, fontsize=14)\n",
    "plt.xlim(2016, 2020)\n",
    "plt.xlabel('Year')\n",
    "plt.ylabel('Number of Passengers (in billions)')\n",
    "plt.grid(True)\n",
    "plt.show()"
   ]
  }
 ],
 "metadata": {
  "kernelspec": {
   "display_name": "Python 3 (ipykernel)",
   "language": "python",
   "name": "python3"
  },
  "language_info": {
   "codemirror_mode": {
    "name": "ipython",
    "version": 3
   },
   "file_extension": ".py",
   "mimetype": "text/x-python",
   "name": "python",
   "nbconvert_exporter": "python",
   "pygments_lexer": "ipython3",
   "version": "3.9.7"
  }
 },
 "nbformat": 4,
 "nbformat_minor": 5
}
