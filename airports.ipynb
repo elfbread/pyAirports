{
 "cells": [
  {
   "cell_type": "code",
   "execution_count": 1,
   "id": "31e452b4",
   "metadata": {},
   "outputs": [],
   "source": [
    "import pandas as pd\n",
    "import matplotlib.pyplot as plt\n",
    "import numpy as np"
   ]
  },
  {
   "cell_type": "code",
   "execution_count": 3,
   "id": "bafb4566",
   "metadata": {},
   "outputs": [
    {
     "name": "stdout",
     "output_type": "stream",
     "text": [
      "   Rank                                            Airport  \\\n",
      "0     1       China Guangzhou Baiyun International Airport   \n",
      "1     2  United States Hartsfield–Jackson Atlanta Inter...   \n",
      "2     3      China Chengdu Shuangliu International Airport   \n",
      "3     4  United States Dallas/Fort Worth International ...   \n",
      "4     5        China Shenzhen Bao'an International Airport   \n",
      "\n",
      "                             Location        Country      Code  Passengers  \\\n",
      "0  Baiyun-Huadu, Guangzhou, Guangdong          China  CAN/ZGGG    43760427   \n",
      "1                    Atlanta, Georgia  United States  ATL/KATL    42918685   \n",
      "2   Shuangliu-Wuhou, Chengdu, Sichuan          China  CTU/ZUUU    40741509   \n",
      "3            Dallas-Fort Worth, Texas  United States  DFW/KDFW    39364990   \n",
      "4         Bao'an, Shenzhen, Guangdong          China  SZX/ZGSZ    37916059   \n",
      "\n",
      "   Year  \n",
      "0  2020  \n",
      "1  2020  \n",
      "2  2020  \n",
      "3  2020  \n",
      "4  2020  \n"
     ]
    }
   ],
   "source": [
    "# import raw data and preview\n",
    "airportRaw = pd.read_csv(r\"C:\\Users\\britt\\Documents\\Python\\airports\\Airports.csv\")\n",
    "print(airportRaw.head())"
   ]
  },
  {
   "cell_type": "code",
   "execution_count": 5,
   "id": "475b9468",
   "metadata": {},
   "outputs": [
    {
     "name": "stdout",
     "output_type": "stream",
     "text": [
      "Count of NaN: 0\n"
     ]
    }
   ],
   "source": [
    "# check for missing values\n",
    "count_nan = airportRaw.isna().sum().sum()\n",
    "print('Count of NaN: ' + str(count_nan))"
   ]
  },
  {
   "cell_type": "code",
   "execution_count": null,
   "id": "6861c443",
   "metadata": {},
   "outputs": [],
   "source": []
  }
 ],
 "metadata": {
  "kernelspec": {
   "display_name": "Python 3 (ipykernel)",
   "language": "python",
   "name": "python3"
  },
  "language_info": {
   "codemirror_mode": {
    "name": "ipython",
    "version": 3
   },
   "file_extension": ".py",
   "mimetype": "text/x-python",
   "name": "python",
   "nbconvert_exporter": "python",
   "pygments_lexer": "ipython3",
   "version": "3.9.7"
  }
 },
 "nbformat": 4,
 "nbformat_minor": 5
}
